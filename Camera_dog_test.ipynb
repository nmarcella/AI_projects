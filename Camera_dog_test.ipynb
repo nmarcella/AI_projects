{
  "nbformat": 4,
  "nbformat_minor": 0,
  "metadata": {
    "colab": {
      "provenance": [],
      "authorship_tag": "ABX9TyPSL98ZMawprkj2+9IyCA4s",
      "include_colab_link": true
    },
    "kernelspec": {
      "name": "python3",
      "display_name": "Python 3"
    },
    "language_info": {
      "name": "python"
    }
  },
  "cells": [
    {
      "cell_type": "markdown",
      "metadata": {
        "id": "view-in-github",
        "colab_type": "text"
      },
      "source": [
        "<a href=\"https://colab.research.google.com/github/nmarcella/AI_projects/blob/main/Camera_dog_test.ipynb\" target=\"_parent\"><img src=\"https://colab.research.google.com/assets/colab-badge.svg\" alt=\"Open In Colab\"/></a>"
      ]
    },
    {
      "cell_type": "markdown",
      "source": [
        "# Setup OLLAMA\n",
        "\n",
        "\n",
        "\n",
        "*   After running GPU_server.ipynb, copy ngrok link to the url variable. note the /api/generate for querying the model and /api/pull for installing the desired model.\n",
        "\n"
      ],
      "metadata": {
        "id": "I8yoCrIGeXZ_"
      }
    },
    {
      "cell_type": "code",
      "source": [
        "url = 'https://f398-34-82-56-162.ngrok-free.app' # this link is no longer valid\n",
        "url_gen = url + '/api/generate'\n",
        "url_pull = url + '/api/pull'"
      ],
      "metadata": {
        "id": "ymoxYCUpe3Oi"
      },
      "execution_count": null,
      "outputs": []
    },
    {
      "cell_type": "code",
      "source": [
        "!curl url_pull -d '{\"model\": \"llava\"}'"
      ],
      "metadata": {
        "id": "BHjMZmLeeZ_Z"
      },
      "execution_count": null,
      "outputs": []
    },
    {
      "cell_type": "markdown",
      "source": [
        "# The main loop\n",
        "\n",
        "\n",
        "\n",
        "*   javascript is used to access the camera feed. (accept permissions)\n",
        "*   an image is saved to the file system\n",
        "*   the image is resized to fit the llava requirements\n",
        "*   the image is encoded to bit64\n",
        "*   llava is queried\n",
        "*   The resonse is recorded.\n",
        "\n"
      ],
      "metadata": {
        "id": "zKDw5CfQY7xn"
      }
    },
    {
      "cell_type": "code",
      "source": [
        "import requests\n",
        "import json\n",
        "import base64\n",
        "from IPython.display import display, Javascript\n",
        "from google.colab.output import eval_js\n",
        "from base64 import b64decode\n",
        "from PIL import Image\n",
        "import time\n",
        "import glob\n",
        "import os\n",
        "\n",
        "headers = {\n",
        "    'Content-Type': 'application/json',\n",
        "}\n",
        "\n",
        "url = url_gen  # Replace with your actual API endpoint\n",
        "\n",
        "def generate_response(prompt, image_path):\n",
        "    with open(image_path, 'rb') as f:\n",
        "        img_str = base64.b64encode(f.read()).decode('utf-8')\n",
        "\n",
        "    CONTEXT = \"you are an AI assistant tasked with keeping tabs on my dogs. Please look the image and respond with a simple yes or no. Do not respond with any other text besides 'yes' or 'no'. The images may be blurry, use your best judgment.\"\n",
        "\n",
        "    data = {\n",
        "        \"model\": \"llava\",  # Replace with your actual model name if different\n",
        "        \"stream\": False,\n",
        "        \"prompt\": \"system prompt: \" + CONTEXT + \" human question: \"+ prompt,\n",
        "        \"images\": [img_str],\n",
        "    }\n",
        "\n",
        "    response = requests.post(url, headers=headers, data=json.dumps(data))\n",
        "    if response.status_code == 200:\n",
        "        response_data = json.loads(response.text)\n",
        "        return response_data[\"response\"]\n",
        "    else:\n",
        "        print(\"Error:\", response.status_code, response.text)\n",
        "        return None\n",
        "\n",
        "def take_photo(filename='photo.jpg', quality=0.8):\n",
        "    js = Javascript('''\n",
        "        async function takePhoto(quality) {\n",
        "            const video = document.createElement('video');\n",
        "            video.style.display = 'block';\n",
        "            const stream = await navigator.mediaDevices.getUserMedia({video: true});\n",
        "\n",
        "            document.body.appendChild(video);\n",
        "            video.srcObject = stream;\n",
        "            await video.play();\n",
        "\n",
        "            // Capture the photo after 1000 ms\n",
        "            await new Promise(resolve => setTimeout(resolve, 1000));\n",
        "\n",
        "            const canvas = document.createElement('canvas');\n",
        "            canvas.width = video.videoWidth;\n",
        "            canvas.height = video.videoHeight;\n",
        "            canvas.getContext('2d').drawImage(video, 0, 0);\n",
        "            stream.getVideoTracks()[0].stop();\n",
        "            video.remove();\n",
        "            return canvas.toDataURL('image/jpeg', quality);\n",
        "        }\n",
        "        ''')\n",
        "    display(js)\n",
        "    data = eval_js('takePhoto({})'.format(quality))\n",
        "    binary = b64decode(data.split(',')[1])\n",
        "    with open(filename, 'wb') as f:\n",
        "        f.write(binary)\n",
        "    return filename\n",
        "\n",
        "def resize_image(image_path, new_size=(672, 672)): # apparently the ideal size is 672 672 for LLaVA but not sure how much this matters\n",
        "    image = Image.open(image_path)\n",
        "    resized_image = image.resize(new_size)\n",
        "    resized_image.save('prepro.jpg')\n",
        "    return 'prepro.jpg'\n",
        "\n",
        "# Log variable to store descriptions\n",
        "log = []\n",
        "\n",
        "try:\n",
        "    # Loop to run indefinitely\n",
        "    while True:\n",
        "        photo_filename = take_photo()\n",
        "        resized_photo = resize_image(photo_filename)\n",
        "        description = generate_response(\"Is there a dog on the couch?\", resized_photo)\n",
        "        log.append(description)\n",
        "        print(description)\n",
        "        time.sleep(10)  # Pause for 30 seconds before the next photo\n",
        "\n",
        "except KeyboardInterrupt:\n",
        "    print(\"Interrupted by user, cleaning up...\")\n",
        "    # Delete images created during the loop\n",
        "    for filename in glob.glob('photo.jpg') + glob.glob('prepro.jpg'):\n",
        "        os.remove(filename)\n",
        "    print(\"Images cleaned up successfully.\")\n"
      ],
      "metadata": {
        "id": "YPqKfjPket-t"
      },
      "execution_count": null,
      "outputs": []
    }
  ]
}